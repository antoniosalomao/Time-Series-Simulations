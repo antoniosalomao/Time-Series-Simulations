{
 "cells": [
  {
   "cell_type": "code",
   "execution_count": 4,
   "metadata": {},
   "outputs": [
    {
     "output_type": "stream",
     "name": "stdout",
     "text": "Mean: 0.9997\nVariance: 1.2507\nCorrelation Coefficient: 0.4000\n"
    }
   ],
   "source": [
    "import numpy as np\n",
    "import statistics as stats\n",
    "import random\n",
    "import matplotlib.pyplot as plt\n",
    "\n",
    "def white_noise_generator(n, mean, stdev, seed_e):\n",
    "    # Generating a white noise processs\n",
    "    np.random.seed(seed_e)\n",
    "    wn_p = np.random.normal(mean, stdev, size=n)\n",
    "    wn_p = np.array(list(zip(wn_p[:-1],wn_p[1:])))\n",
    "\n",
    "    return wn_p\n",
    "\n",
    "def ma_1_generator(alpha, mean, wn):\n",
    "    # Moving average Process of Order 1 (MA(q=1)):\n",
    "    ma = []\n",
    "    for wn_0, wn_1 in wn:\n",
    "        X = mean + wn_1 + alpha*wn_0\n",
    "        ma.append(X)\n",
    "    ma = np.array(ma)\n",
    "    \n",
    "    return ma\n",
    "\n",
    "def ma_prop(ma):\n",
    "    mean_ma = np.mean(ma)\n",
    "    var_ma = np.var(ma)\n",
    "    corrcoef_ma = np.corrcoef(ma[:-1], ma[1:])[0][1]\n",
    "    print('Mean: {:.4f}'.format(mean_ma))\n",
    "    print('Variance: {:.4f}'.format(var_ma))\n",
    "    print('Correlation Coefficient: {:.4f}'.format(corrcoef_ma))\n",
    "\n",
    "# # MA(q=1) properties:\n",
    "# E[X_t] = mean\n",
    "# Var[X_t] = (1 + alpha^2)*Var(wn)\n",
    "# Cov[X_t, X_t+1] = (alpha)/(1 + alpha^2)\n",
    "\n",
    "wn_dict = {'n': 5000000,\n",
    "        'mean': 0,\n",
    "       'stdev': 1,\n",
    "      'seed_e': 48}\n",
    "\n",
    "ma_dict = {'alpha': 0.5,\n",
    "            'mean': 1}\n",
    "\n",
    "wn = white_noise_generator(**wn_dict)\n",
    "ma_1 = ma_1_generator(**ma_dict, wn=wn)\n",
    "ma_prop(ma_1)"
   ]
  },
  {
   "cell_type": "code",
   "execution_count": null,
   "metadata": {},
   "outputs": [],
   "source": []
  }
 ],
 "metadata": {
  "language_info": {
   "codemirror_mode": {
    "name": "ipython",
    "version": 3
   },
   "file_extension": ".py",
   "mimetype": "text/x-python",
   "name": "python",
   "nbconvert_exporter": "python",
   "pygments_lexer": "ipython3",
   "version": 3
  },
  "orig_nbformat": 2,
  "kernelspec": {
   "name": "python_defaultSpec_1599354525714",
   "display_name": "Python 3.8.2 64-bit"
  }
 },
 "nbformat": 4,
 "nbformat_minor": 2
}